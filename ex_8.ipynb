{
 "cells": [
  {
   "cell_type": "code",
   "execution_count": 5,
   "id": "88625a7e-d912-4c59-8cec-75807f6175b1",
   "metadata": {},
   "outputs": [
    {
     "name": "stdout",
     "output_type": "stream",
     "text": [
      "Image size: 194 259\n"
     ]
    },
    {
     "name": "stdin",
     "output_type": "stream",
     "text": [
      "Enter key to edit (Security Key):  123\n",
      "Enter text to hide:  sandes\n"
     ]
    },
    {
     "name": "stdout",
     "output_type": "stream",
     "text": [
      "Data Hiding in Image completed successfully.\n"
     ]
    },
    {
     "name": "stdin",
     "output_type": "stream",
     "text": [
      "\n",
      "Enter 1 to extract data from Image :  1\n",
      "\n",
      "Re-enter key to extract text :  123\n"
     ]
    },
    {
     "name": "stdout",
     "output_type": "stream",
     "text": [
      "\n",
      " Encrypted text was : sandes\n"
     ]
    }
   ],
   "source": [
    "import cv2\n",
    "import os\n",
    "\n",
    "# Create dictionaries for char-int mapping\n",
    "d = {}\n",
    "c = {}\n",
    "for i in range(256):\n",
    "    d[chr(i)] = i\n",
    "    c[i] = chr(i)\n",
    "\n",
    "# Load image\n",
    "x = cv2.imread(r\"image.jpeg\")\n",
    "rows, cols, _ = x.shape\n",
    "print(\"Image size:\", rows, cols)\n",
    "\n",
    "# Input secret\n",
    "key = input(\"Enter key to edit (Security Key): \")\n",
    "text = input(\"Enter text to hide: \")\n",
    "\n",
    "kl = 0\n",
    "n, m, z = 0, 0, 0\n",
    "l = len(text)\n",
    "\n",
    "# Hide text\n",
    "for i in range(l):\n",
    "    x[n, m, z] = d[text[i]] ^ d[key[kl]]\n",
    "    n = (n + 1) % rows\n",
    "    m = (m + 1) % cols\n",
    "    z = (z + 1) % 3\n",
    "    kl = (kl + 1) % len(key)\n",
    "\n",
    "# Save stego image\n",
    "cv2.imwrite(\"encrypted_img.jpeg\", x)\n",
    "os.startfile(\"encrypted_img.jpeg\")\n",
    "print(\"Data Hiding in Image completed successfully.\")\n",
    "\n",
    "# Extraction\n",
    "ch = int(input(\"\\nEnter 1 to extract data from Image : \"))\n",
    "if ch == 1:\n",
    "    key1 = input(\"\\nRe-enter key to extract text : \")\n",
    "    decrypt = \"\"\n",
    "\n",
    "    if key == key1:\n",
    "        kl = 0\n",
    "        n, m, z = 0, 0, 0\n",
    "        for i in range(l):\n",
    "            decrypt += c[x[n, m, z] ^ d[key[kl]]]\n",
    "            n = (n + 1) % rows\n",
    "            m = (m + 1) % cols\n",
    "            z = (z + 1) % 3\n",
    "            kl = (kl + 1) % len(key)\n",
    "\n",
    "        print(\"\\n Encrypted text was :\", decrypt)\n",
    "    else:\n",
    "        print(\"Key doesn't match.\")\n",
    "else:\n",
    "    print(\"Thank you. EXITING.\")\n"
   ]
  },
  {
   "cell_type": "code",
   "execution_count": null,
   "id": "261f2f33-111e-47ca-9ac1-fd96a553e275",
   "metadata": {},
   "outputs": [],
   "source": []
  }
 ],
 "metadata": {
  "kernelspec": {
   "display_name": "Python 3 (ipykernel)",
   "language": "python",
   "name": "python3"
  },
  "language_info": {
   "codemirror_mode": {
    "name": "ipython",
    "version": 3
   },
   "file_extension": ".py",
   "mimetype": "text/x-python",
   "name": "python",
   "nbconvert_exporter": "python",
   "pygments_lexer": "ipython3",
   "version": "3.13.5"
  }
 },
 "nbformat": 4,
 "nbformat_minor": 5
}
